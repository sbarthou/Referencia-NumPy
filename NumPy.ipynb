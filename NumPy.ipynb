{
 "cells": [
  {
   "cell_type": "code",
   "execution_count": 1,
   "id": "f9e00b83-23ab-48d6-9c67-092878a0b34d",
   "metadata": {},
   "outputs": [],
   "source": [
    "import numpy as np"
   ]
  },
  {
   "cell_type": "markdown",
   "id": "c409a8e1-93fa-422a-b38f-48301f75bbe7",
   "metadata": {},
   "source": [
    "# NumPy"
   ]
  },
  {
   "cell_type": "markdown",
   "id": "1889849f-811d-4cbd-8f9d-369a9c9859db",
   "metadata": {},
   "source": [
    "#### Creación de arrays y matrices"
   ]
  },
  {
   "cell_type": "markdown",
   "id": "3faf3856-f4e8-4a60-8364-0a605b4d5849",
   "metadata": {},
   "source": [
    "```python\n",
    "\n",
    "np.array([lista]) : Crea un array a partir de la lista o tupla lista.\n",
    "np.matrix([listas]) : Crea una matriz con filas según las listas ingresadas.\n",
    "np.empty([dimensiones]) : Crea un array vacío con las dimensiones especificadas en la tupla dimensiones.\n",
    "np.zeros([dimensiones]) : Crea un array con las dimensiones especificadas en la tupla dimensiones cuyos elementos son todos ceros.\n",
    "np.ones([dimensiones]) : Crea un array con las dimensiones especificadas en la tupla dimensiones cuyos elementos son todos unos.\n",
    "np.full([dimensiones], valor) : Crea un array con las dimensiones especificadas en la tupla dimensiones cuyos elementos son todos valor.\n",
    "np.eye(n) : Crea la matriz identidad de dimensión n.\n",
    "np.diag([lista]) : Crea la matriz diagonal con los elementos de la lista en su diagonal principal.\n",
    "np.arange(inicio, fin, salto) : Crea un array de una dimensión cuyos elementos son la secuencia desde inicio hasta fin tomando valores cada salto.\n",
    "np.linspace(inicio, fin, n) : Crea un array de una dimensión cuyos elementos son la secuencia de n valores equidistantes desde inicio hasta fin.\n",
    "np.random.rand([dimensiones]) : Crea un array con las dimensiones especificadas con números aleatorios entre 0 y 1.\n",
    "np.random.random([dimensiones]) : Crea un array con las dimensiones especificadas en la tupla dimensiones cuyos elementos son aleatorios.\n",
    "np.random.randint(low, high, (size)) : Crea un array con valores aleatorios entre low y high de size elementos.\n",
    "\n",
    "```"
   ]
  },
  {
   "cell_type": "markdown",
   "id": "b01aa61e-9808-4d31-b9e9-ae403af665b4",
   "metadata": {},
   "source": [
    "#### Atributos de matrices"
   ]
  },
  {
   "cell_type": "markdown",
   "id": "8ef4efb6-38b3-4bcf-b467-b14345fc0486",
   "metadata": {},
   "source": [
    "Considere que $A$ es un array o una matriz numpy:\n",
    "\n",
    "```python\n",
    "\n",
    "A.ndi : Devuelve el número de dimensiones de A.\n",
    "A.shape : Devuelve una tupla con las dimensiones de A.\n",
    "A.size : Devuelve el número de elementos de A.\n",
    "A.dtype : Devuelve el tipo de datos de los elementos de A.\n",
    "A.reshape(dim) : Transforma el array A en otro con dimensiones dim.\n",
    "np.diag(A, k=n) : Devuelve la diagonal de A partiendo de la columna n.\n",
    "np.append(A, value) : Agrega un valor value al final de A.\n",
    "\n",
    "```"
   ]
  },
  {
   "cell_type": "markdown",
   "id": "a066be3f-66b2-4dfb-b065-dad00c92beeb",
   "metadata": {},
   "source": [
    "#### Operaciones con matrices"
   ]
  },
  {
   "cell_type": "markdown",
   "id": "985cb9fc-536a-4f3d-82ff-12772b246224",
   "metadata": {},
   "source": [
    "Considere que $A$ y $B$ son un array o una matriz numpy:\n",
    "\n",
    "```python\n",
    "\n",
    "A[condicion] : Devuelve una lista con los elementos de A que cumplen la condición condicion.\n",
    "A*num, A+num, etc : Los operadores mamemáticos +, -, *, /, %, ** se utilizan para la realizar suma, resta, producto, cociente, resto y potencia a nivel de elemento.\n",
    "A[i,:]*num: retorna un array correspondiente a la i-ésima fila multiplicada por num.\n",
    "A[:,i]*num: retorna un array correspondiente a la i-ésima columna multiplicada por num.\n",
    "A.max(): retorna el valor máximo de un array.\n",
    "A.min(): retorna el valor mínimo de un array.\n",
    "A[i,:].max(): retorna el valor máximo de la i-ésima fila.\n",
    "A[i,:].min(): retorna el valor mínimo de la i-ésima fila.\n",
    "A[:,i].max(): retorna el valor máximo de la i-ésima columna.\n",
    "A[:,i].min(): retorna el valor mínimo de la i-ésima columna.\n",
    "A.argmax() : retorna el índice del máximo valor de A.\n",
    "A.argmin() : retorna el índice del mínimo valor de A.\n",
    "A.round(decimales): retorna un array con todos los elementos redondeados a la cantidad de decimales pasados.\n",
    "A.sum(): retorna la suma de los elementos de A.\n",
    "A.mean(): retorna el promedio de los elementos de A.\n",
    "A.prod(): retorna la multiplicación de los elementos de A.\n",
    "np.sqrt(A) : retorna la raíz cuadrada de los elementos de A.\n",
    "A.all(): retorna verdadero si todos los elementos de A se evaluan como verdadero.\n",
    "A.any(): retorna verdadero si alguno de los elementos de A se evaluan como verdadero.\n",
    "np.dot(A, B) : retorna el producto punto de A con B.\n",
    "np.linalg.inv(A) : retorna la matriz inversa de A.\n",
    "np.exp(A) : retorna e ^ elemento para cada elemento de A.\n",
    "np.sin(A) : retorna el seno de cada elemento de A.\n",
    "np.cos(A) : retorna el coseno de cada elemento de A.\n",
    "np.log(A) : retorna el logaritmo en base diez de cada elemento de A.\n",
    "A.copy() : copia el array A.\n",
    "\n",
    "```"
   ]
  }
 ],
 "metadata": {
  "kernelspec": {
   "display_name": "Python 3 (ipykernel)",
   "language": "python",
   "name": "python3"
  },
  "language_info": {
   "codemirror_mode": {
    "name": "ipython",
    "version": 3
   },
   "file_extension": ".py",
   "mimetype": "text/x-python",
   "name": "python",
   "nbconvert_exporter": "python",
   "pygments_lexer": "ipython3",
   "version": "3.10.6"
  }
 },
 "nbformat": 4,
 "nbformat_minor": 5
}
